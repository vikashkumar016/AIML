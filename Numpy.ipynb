{
 "cells": [
  {
   "cell_type": "code",
   "execution_count": 13,
   "id": "327194cb-39a6-4e3f-ad21-0705c1c9e5ba",
   "metadata": {},
   "outputs": [],
   "source": [
    "# Numpy Arrays\n",
    "\n",
    "import numpy as np"
   ]
  },
  {
   "cell_type": "code",
   "execution_count": 15,
   "id": "15e6f7a0-8990-4e59-a4e8-548592252978",
   "metadata": {},
   "outputs": [],
   "source": [
    "# Basic array \n",
    "arr=np.array([1,2,3,4])"
   ]
  },
  {
   "cell_type": "code",
   "execution_count": 17,
   "id": "65cea35c-fe99-4f3b-b6e8-84b4e86dcaa5",
   "metadata": {},
   "outputs": [
    {
     "data": {
      "text/plain": [
       "array([1, 2, 3, 4])"
      ]
     },
     "execution_count": 17,
     "metadata": {},
     "output_type": "execute_result"
    }
   ],
   "source": [
    "arr"
   ]
  },
  {
   "cell_type": "code",
   "execution_count": 27,
   "id": "4e0db350-e6f0-4708-a193-c39fa5a3029d",
   "metadata": {},
   "outputs": [],
   "source": [
    "a=[1,2,3,4.4]"
   ]
  },
  {
   "cell_type": "code",
   "execution_count": 29,
   "id": "cdd94175-41bf-4669-96cc-71922fd03a43",
   "metadata": {},
   "outputs": [
    {
     "data": {
      "text/plain": [
       "[1, 2, 3, 4.4]"
      ]
     },
     "execution_count": 29,
     "metadata": {},
     "output_type": "execute_result"
    }
   ],
   "source": [
    "a\n"
   ]
  },
  {
   "cell_type": "code",
   "execution_count": 31,
   "id": "3e278e1c-093d-4bc5-a01c-0d58c6772cc5",
   "metadata": {},
   "outputs": [
    {
     "data": {
      "text/plain": [
       "array([1. , 2. , 3. , 4.4])"
      ]
     },
     "execution_count": 31,
     "metadata": {},
     "output_type": "execute_result"
    }
   ],
   "source": [
    "np.array(a)"
   ]
  },
  {
   "cell_type": "code",
   "execution_count": 33,
   "id": "7622a726-57ab-4f9a-bd4a-fde2948136c5",
   "metadata": {},
   "outputs": [],
   "source": [
    "l=[[1,2,3],[4,5,6],[7,8,9]]"
   ]
  },
  {
   "cell_type": "code",
   "execution_count": 35,
   "id": "934768ff-ea9e-48d0-9766-b45cea83e323",
   "metadata": {},
   "outputs": [
    {
     "data": {
      "text/plain": [
       "[[1, 2, 3], [4, 5, 6], [7, 8, 9]]"
      ]
     },
     "execution_count": 35,
     "metadata": {},
     "output_type": "execute_result"
    }
   ],
   "source": [
    "l"
   ]
  },
  {
   "cell_type": "code",
   "execution_count": 37,
   "id": "b04a9916-6b10-47f4-a39c-b71ec3348c83",
   "metadata": {},
   "outputs": [
    {
     "data": {
      "text/plain": [
       "array([[1, 2, 3],\n",
       "       [4, 5, 6],\n",
       "       [7, 8, 9]])"
      ]
     },
     "execution_count": 37,
     "metadata": {},
     "output_type": "execute_result"
    }
   ],
   "source": [
    "np.array(l)"
   ]
  },
  {
   "cell_type": "code",
   "execution_count": 41,
   "id": "490d27e6-d0fe-4108-b2f7-8246da9734f0",
   "metadata": {},
   "outputs": [],
   "source": [
    "arr=np.arange(1,11)"
   ]
  },
  {
   "cell_type": "code",
   "execution_count": 43,
   "id": "23e6c4f0-9984-461e-ab58-75cdbc4ef179",
   "metadata": {},
   "outputs": [
    {
     "data": {
      "text/plain": [
       "array([ 1,  2,  3,  4,  5,  6,  7,  8,  9, 10])"
      ]
     },
     "execution_count": 43,
     "metadata": {},
     "output_type": "execute_result"
    }
   ],
   "source": [
    "arr"
   ]
  },
  {
   "cell_type": "code",
   "execution_count": 53,
   "id": "72355233-48d9-4e19-9cff-88fb739839f3",
   "metadata": {},
   "outputs": [
    {
     "data": {
      "text/plain": [
       "array([[0., 0., 0., 0., 0., 0., 0., 0.],\n",
       "       [0., 0., 0., 0., 0., 0., 0., 0.],\n",
       "       [0., 0., 0., 0., 0., 0., 0., 0.],\n",
       "       [0., 0., 0., 0., 0., 0., 0., 0.]])"
      ]
     },
     "execution_count": 53,
     "metadata": {},
     "output_type": "execute_result"
    }
   ],
   "source": [
    "arr=np.zeros((4,8))\n",
    "arr"
   ]
  },
  {
   "cell_type": "code",
   "execution_count": 55,
   "id": "d16ccfa5-4356-404f-a28c-fb7cad9dc3ec",
   "metadata": {},
   "outputs": [
    {
     "data": {
      "text/plain": [
       "array([[1., 1., 1., 1., 1., 1.],\n",
       "       [1., 1., 1., 1., 1., 1.],\n",
       "       [1., 1., 1., 1., 1., 1.],\n",
       "       [1., 1., 1., 1., 1., 1.],\n",
       "       [1., 1., 1., 1., 1., 1.],\n",
       "       [1., 1., 1., 1., 1., 1.]])"
      ]
     },
     "execution_count": 55,
     "metadata": {},
     "output_type": "execute_result"
    }
   ],
   "source": [
    "arr=np.ones((6,6))\n",
    "arr"
   ]
  },
  {
   "cell_type": "code",
   "execution_count": 63,
   "id": "bbbf7093-8a17-4ed8-ac94-abe8099e8e7a",
   "metadata": {},
   "outputs": [
    {
     "data": {
      "text/plain": [
       "array([1., 3., 5.])"
      ]
     },
     "execution_count": 63,
     "metadata": {},
     "output_type": "execute_result"
    }
   ],
   "source": [
    "arr=np.linspace(1,5,3)\n",
    "arr\n"
   ]
  },
  {
   "cell_type": "code",
   "execution_count": 65,
   "id": "f2de95e9-6c95-45ee-a75b-340ec55bf8e8",
   "metadata": {},
   "outputs": [
    {
     "data": {
      "text/plain": [
       "array([0.56715141, 0.29962618, 0.47548918, 0.55638491, 0.37961358])"
      ]
     },
     "execution_count": 65,
     "metadata": {},
     "output_type": "execute_result"
    }
   ],
   "source": [
    "np.random.rand(5)"
   ]
  },
  {
   "cell_type": "code",
   "execution_count": 67,
   "id": "4bdbeed6-d6bd-4bba-b288-6dafb6762962",
   "metadata": {},
   "outputs": [
    {
     "data": {
      "text/plain": [
       "array([0.89481486, 0.51446676, 0.83264518, 0.88852613, 0.87006546,\n",
       "       0.33129986, 0.79594564, 0.57620667, 0.32691518, 0.65393444])"
      ]
     },
     "execution_count": 67,
     "metadata": {},
     "output_type": "execute_result"
    }
   ],
   "source": [
    "np.random.rand(10)"
   ]
  },
  {
   "cell_type": "code",
   "execution_count": 73,
   "id": "2725e838-4777-4dca-8b73-1589cfe5f7d0",
   "metadata": {},
   "outputs": [
    {
     "data": {
      "text/plain": [
       "array([15, 18, 10, 10, 11, 12, 17, 18, 10, 17])"
      ]
     },
     "execution_count": 73,
     "metadata": {},
     "output_type": "execute_result"
    }
   ],
   "source": [
    "np.random.randint(10,20,10)"
   ]
  },
  {
   "cell_type": "code",
   "execution_count": null,
   "id": "b1cfe44a-c8fd-42dd-844e-db64faf5808c",
   "metadata": {},
   "outputs": [],
   "source": [
    "\n",
    "#Array Attributes "
   ]
  },
  {
   "cell_type": "code",
   "execution_count": 79,
   "id": "c7dd2c25-e5f5-41fe-a46c-5a0dd2100022",
   "metadata": {},
   "outputs": [
    {
     "data": {
      "text/plain": [
       "array([[1, 2, 3],\n",
       "       [4, 5, 6],\n",
       "       [7, 8, 9]])"
      ]
     },
     "execution_count": 79,
     "metadata": {},
     "output_type": "execute_result"
    }
   ],
   "source": [
    "arr=np.array([[1,2,3],[4,5,6],[7,8,9]])\n",
    "arr"
   ]
  },
  {
   "cell_type": "code",
   "execution_count": 83,
   "id": "cf74aa35-292f-4c4b-b2b5-2d5ccd130879",
   "metadata": {},
   "outputs": [
    {
     "data": {
      "text/plain": [
       "(3, 3)"
      ]
     },
     "execution_count": 83,
     "metadata": {},
     "output_type": "execute_result"
    }
   ],
   "source": [
    "arr.shape  #rows , cols"
   ]
  },
  {
   "cell_type": "code",
   "execution_count": 85,
   "id": "f9ee83ae-e863-4658-a4ee-2fa535f9bf5f",
   "metadata": {},
   "outputs": [
    {
     "data": {
      "text/plain": [
       "9"
      ]
     },
     "execution_count": 85,
     "metadata": {},
     "output_type": "execute_result"
    }
   ],
   "source": [
    "arr.size"
   ]
  },
  {
   "cell_type": "code",
   "execution_count": 87,
   "id": "abdb3df8-f8a8-4cb6-8f6c-8801dd93ab7a",
   "metadata": {},
   "outputs": [
    {
     "data": {
      "text/plain": [
       "dtype('int32')"
      ]
     },
     "execution_count": 87,
     "metadata": {},
     "output_type": "execute_result"
    }
   ],
   "source": [
    "arr.dtype"
   ]
  },
  {
   "cell_type": "code",
   "execution_count": null,
   "id": "ade8affd-39a6-442b-bfcb-6ef75d67aa58",
   "metadata": {},
   "outputs": [],
   "source": [
    "#Array Methods"
   ]
  },
  {
   "cell_type": "code",
   "execution_count": 89,
   "id": "c3692829-1d6d-45ee-abf5-8cf232926068",
   "metadata": {},
   "outputs": [
    {
     "data": {
      "text/plain": [
       "array([[1, 2, 3],\n",
       "       [4, 5, 6],\n",
       "       [7, 8, 9]])"
      ]
     },
     "execution_count": 89,
     "metadata": {},
     "output_type": "execute_result"
    }
   ],
   "source": [
    "arr\n"
   ]
  },
  {
   "cell_type": "code",
   "execution_count": 91,
   "id": "8191fd80-82e5-4eee-9792-7cbf8df54b18",
   "metadata": {},
   "outputs": [
    {
     "data": {
      "text/plain": [
       "1"
      ]
     },
     "execution_count": 91,
     "metadata": {},
     "output_type": "execute_result"
    }
   ],
   "source": [
    "arr.min()"
   ]
  },
  {
   "cell_type": "code",
   "execution_count": 93,
   "id": "483209c9-5485-4036-aa53-e132ff5eaf7e",
   "metadata": {},
   "outputs": [
    {
     "data": {
      "text/plain": [
       "9"
      ]
     },
     "execution_count": 93,
     "metadata": {},
     "output_type": "execute_result"
    }
   ],
   "source": [
    "arr.max()"
   ]
  },
  {
   "cell_type": "code",
   "execution_count": 95,
   "id": "04acc65e-104b-4228-8ad6-a5f566c6df13",
   "metadata": {},
   "outputs": [
    {
     "data": {
      "text/plain": [
       "45"
      ]
     },
     "execution_count": 95,
     "metadata": {},
     "output_type": "execute_result"
    }
   ],
   "source": [
    "arr.sum()"
   ]
  },
  {
   "cell_type": "code",
   "execution_count": 107,
   "id": "fa2ee8e7-7ca7-4271-9cf1-6f204adfd8bb",
   "metadata": {},
   "outputs": [
    {
     "data": {
      "text/plain": [
       "array([ 6, 15, 24])"
      ]
     },
     "execution_count": 107,
     "metadata": {},
     "output_type": "execute_result"
    }
   ],
   "source": [
    "np.sum(arr,axis=1)   # rows wise\n"
   ]
  },
  {
   "cell_type": "code",
   "execution_count": 103,
   "id": "e1c72e16-85d3-4729-8aa2-0dd2623d7c93",
   "metadata": {},
   "outputs": [
    {
     "data": {
      "text/plain": [
       "array([12, 15, 18])"
      ]
     },
     "execution_count": 103,
     "metadata": {},
     "output_type": "execute_result"
    }
   ],
   "source": [
    "np.sum(arr,axis=0)   # cols wise"
   ]
  },
  {
   "cell_type": "code",
   "execution_count": 109,
   "id": "a2ed5b86-272c-4234-8649-1029019e42a4",
   "metadata": {},
   "outputs": [
    {
     "data": {
      "text/plain": [
       "5.0"
      ]
     },
     "execution_count": 109,
     "metadata": {},
     "output_type": "execute_result"
    }
   ],
   "source": [
    "arr.mean()"
   ]
  },
  {
   "cell_type": "code",
   "execution_count": 111,
   "id": "fced71e8-3acc-4db0-b592-4be9d690ef56",
   "metadata": {},
   "outputs": [
    {
     "data": {
      "text/plain": [
       "2.581988897471611"
      ]
     },
     "execution_count": 111,
     "metadata": {},
     "output_type": "execute_result"
    }
   ],
   "source": [
    "arr.std()"
   ]
  },
  {
   "cell_type": "code",
   "execution_count": 113,
   "id": "a5d0ad8d-75d7-4c68-bcbb-59ed1b7493c5",
   "metadata": {},
   "outputs": [
    {
     "data": {
      "text/plain": [
       "8"
      ]
     },
     "execution_count": 113,
     "metadata": {},
     "output_type": "execute_result"
    }
   ],
   "source": [
    "arr.argmax() #argumnet max it mean max element index"
   ]
  },
  {
   "cell_type": "code",
   "execution_count": 115,
   "id": "8279f264-ee3b-4b22-92ff-435562c62ac9",
   "metadata": {},
   "outputs": [
    {
     "data": {
      "text/plain": [
       "0"
      ]
     },
     "execution_count": 115,
     "metadata": {},
     "output_type": "execute_result"
    }
   ],
   "source": [
    "arr.argmin()  #argumnet min it mean max element index"
   ]
  },
  {
   "cell_type": "code",
   "execution_count": null,
   "id": "fec85814-8d74-4080-bca5-28f3613e405b",
   "metadata": {},
   "outputs": [],
   "source": [
    "#Reshaping and Resizing"
   ]
  },
  {
   "cell_type": "code",
   "execution_count": 119,
   "id": "f5c00f6d-49a4-419e-99ff-9740b598d039",
   "metadata": {},
   "outputs": [
    {
     "data": {
      "text/plain": [
       "array([ 1,  2,  3,  4,  5,  6,  7,  8,  9, 10, 11, 12, 13, 14, 15, 16, 17,\n",
       "       18, 19, 20, 21, 22, 23, 24, 25, 26, 27, 28, 29, 30])"
      ]
     },
     "execution_count": 119,
     "metadata": {},
     "output_type": "execute_result"
    }
   ],
   "source": [
    "arr=np.arange(1,31)\n",
    "arr"
   ]
  },
  {
   "cell_type": "code",
   "execution_count": 121,
   "id": "df45e2e8-add2-4d61-89d4-7229175e37e9",
   "metadata": {},
   "outputs": [
    {
     "data": {
      "text/plain": [
       "array([[ 1,  2,  3,  4,  5],\n",
       "       [ 6,  7,  8,  9, 10],\n",
       "       [11, 12, 13, 14, 15],\n",
       "       [16, 17, 18, 19, 20],\n",
       "       [21, 22, 23, 24, 25],\n",
       "       [26, 27, 28, 29, 30]])"
      ]
     },
     "execution_count": 121,
     "metadata": {},
     "output_type": "execute_result"
    }
   ],
   "source": [
    "arr.reshape(6,5)"
   ]
  },
  {
   "cell_type": "code",
   "execution_count": 123,
   "id": "52bf184f-e7be-4258-a5c8-892ed7bfeca4",
   "metadata": {},
   "outputs": [],
   "source": [
    "arr=arr.reshape(6,5)   #resize"
   ]
  },
  {
   "cell_type": "code",
   "execution_count": 125,
   "id": "55a09cda-75a2-4e01-aaea-eccc67ca3cd6",
   "metadata": {},
   "outputs": [
    {
     "data": {
      "text/plain": [
       "array([[ 1,  2,  3,  4,  5],\n",
       "       [ 6,  7,  8,  9, 10],\n",
       "       [11, 12, 13, 14, 15],\n",
       "       [16, 17, 18, 19, 20],\n",
       "       [21, 22, 23, 24, 25],\n",
       "       [26, 27, 28, 29, 30]])"
      ]
     },
     "execution_count": 125,
     "metadata": {},
     "output_type": "execute_result"
    }
   ],
   "source": [
    "arr"
   ]
  },
  {
   "cell_type": "code",
   "execution_count": null,
   "id": "14541bcf-80cf-416e-adbc-b319d6e2132b",
   "metadata": {},
   "outputs": [],
   "source": [
    "#Numpy Indexing And Slicing Of Vectors"
   ]
  },
  {
   "cell_type": "code",
   "execution_count": 129,
   "id": "317c8f21-17f4-49e4-aef5-8eed3a5d13c0",
   "metadata": {},
   "outputs": [
    {
     "data": {
      "text/plain": [
       "array([11, 12, 13, 14, 15, 16, 17, 18, 19, 20])"
      ]
     },
     "execution_count": 129,
     "metadata": {},
     "output_type": "execute_result"
    }
   ],
   "source": [
    "arr=np.arange(11,21)\n",
    "arr"
   ]
  },
  {
   "cell_type": "code",
   "execution_count": 131,
   "id": "b205180c-a1cc-4e9c-99fa-8c00d5bc9524",
   "metadata": {},
   "outputs": [
    {
     "data": {
      "text/plain": [
       "17"
      ]
     },
     "execution_count": 131,
     "metadata": {},
     "output_type": "execute_result"
    }
   ],
   "source": [
    "arr[6]"
   ]
  },
  {
   "cell_type": "code",
   "execution_count": 133,
   "id": "c329805f-964f-47c2-848f-924649601612",
   "metadata": {},
   "outputs": [
    {
     "data": {
      "text/plain": [
       "array([12, 13, 14, 15])"
      ]
     },
     "execution_count": 133,
     "metadata": {},
     "output_type": "execute_result"
    }
   ],
   "source": [
    "arr_slice=arr[1:5]  # slicing"
   ]
  },
  {
   "cell_type": "code",
   "execution_count": null,
   "id": "b9afc03a-8631-4b49-9e2d-2ea7ed505593",
   "metadata": {},
   "outputs": [],
   "source": [
    "#Numpy Indexing and slicing of Matrix"
   ]
  },
  {
   "cell_type": "code",
   "execution_count": 135,
   "id": "8b40fa02-33be-4fc6-892a-54bbb473ba07",
   "metadata": {},
   "outputs": [],
   "source": [
    "arr=np.arange(1,31).reshape(6,5)"
   ]
  },
  {
   "cell_type": "code",
   "execution_count": 137,
   "id": "b321de04-90a4-4621-99ba-7ef7c3110e56",
   "metadata": {},
   "outputs": [
    {
     "data": {
      "text/plain": [
       "array([[ 1,  2,  3,  4,  5],\n",
       "       [ 6,  7,  8,  9, 10],\n",
       "       [11, 12, 13, 14, 15],\n",
       "       [16, 17, 18, 19, 20],\n",
       "       [21, 22, 23, 24, 25],\n",
       "       [26, 27, 28, 29, 30]])"
      ]
     },
     "execution_count": 137,
     "metadata": {},
     "output_type": "execute_result"
    }
   ],
   "source": [
    "arr"
   ]
  },
  {
   "cell_type": "code",
   "execution_count": 151,
   "id": "921a3765-8786-4bd3-a9ed-0b2f8979d486",
   "metadata": {},
   "outputs": [
    {
     "data": {
      "text/plain": [
       "30"
      ]
     },
     "execution_count": 151,
     "metadata": {},
     "output_type": "execute_result"
    }
   ],
   "source": [
    "arr[5,4]"
   ]
  },
  {
   "cell_type": "code",
   "execution_count": 155,
   "id": "b0d6f42e-1324-4b64-b38a-1deee19977da",
   "metadata": {},
   "outputs": [
    {
     "data": {
      "text/plain": [
       "array([[2, 3],\n",
       "       [7, 8]])"
      ]
     },
     "execution_count": 155,
     "metadata": {},
     "output_type": "execute_result"
    }
   ],
   "source": [
    "slice=arr[0:2,1:3]\n",
    "slice"
   ]
  },
  {
   "cell_type": "code",
   "execution_count": 159,
   "id": "895ccbc0-6adf-4a29-8c4a-12a622faeb67",
   "metadata": {},
   "outputs": [
    {
     "data": {
      "text/plain": [
       "array([[19, 20],\n",
       "       [24, 25],\n",
       "       [29, 30]])"
      ]
     },
     "execution_count": 159,
     "metadata": {},
     "output_type": "execute_result"
    }
   ],
   "source": [
    "arr[3:6,3:6]"
   ]
  },
  {
   "cell_type": "code",
   "execution_count": 165,
   "id": "40408ecd-124f-4f20-9b3d-c27295c6e25c",
   "metadata": {},
   "outputs": [
    {
     "data": {
      "text/plain": [
       "array([ 3,  8, 13, 18, 23, 28])"
      ]
     },
     "execution_count": 165,
     "metadata": {},
     "output_type": "execute_result"
    }
   ],
   "source": [
    "arr[:,2]"
   ]
  },
  {
   "cell_type": "code",
   "execution_count": null,
   "id": "584762a2-45bc-47ec-8ceb-85f3217cae9c",
   "metadata": {},
   "outputs": [],
   "source": [
    "#Boolean Indexing "
   ]
  },
  {
   "cell_type": "code",
   "execution_count": 175,
   "id": "d20d0cfe-a66a-4d5e-9185-51504cca9faf",
   "metadata": {},
   "outputs": [
    {
     "data": {
      "text/plain": [
       "array([11, 12, 13, 14, 15, 16, 17, 18, 19, 20])"
      ]
     },
     "execution_count": 175,
     "metadata": {},
     "output_type": "execute_result"
    }
   ],
   "source": [
    "arr=np.arange(11,21)\n",
    "arr"
   ]
  },
  {
   "cell_type": "code",
   "execution_count": 183,
   "id": "5011a431-7e29-4ef3-aa17-f344d3cb0f11",
   "metadata": {},
   "outputs": [
    {
     "data": {
      "text/plain": [
       "array([ True,  True,  True,  True,  True])"
      ]
     },
     "execution_count": 183,
     "metadata": {},
     "output_type": "execute_result"
    }
   ],
   "source": [
    "bool_index=arr %2==0\n",
    "bool_index"
   ]
  },
  {
   "cell_type": "code",
   "execution_count": 185,
   "id": "736cbf80-bc5c-42d3-9919-dcebf05845db",
   "metadata": {},
   "outputs": [
    {
     "data": {
      "text/plain": [
       "array([12, 14, 16, 18, 20])"
      ]
     },
     "execution_count": 185,
     "metadata": {},
     "output_type": "execute_result"
    }
   ],
   "source": [
    "arr=arr[bool_index]\n",
    "arr"
   ]
  },
  {
   "cell_type": "code",
   "execution_count": null,
   "id": "5f2df122-7951-4ffb-8cdb-88d23e7966e7",
   "metadata": {},
   "outputs": [],
   "source": [
    "#Array Operations"
   ]
  },
  {
   "cell_type": "code",
   "execution_count": 187,
   "id": "18f0e66b-0cf0-4ec2-993f-3bb44fc2ec9f",
   "metadata": {},
   "outputs": [],
   "source": [
    "a1=np.array([1,2,3,4,5])\n",
    "a2=np.array([6,7,8,9,10])"
   ]
  },
  {
   "cell_type": "code",
   "execution_count": 191,
   "id": "a95d4abf-0d91-4869-9079-fa11ace8ae2e",
   "metadata": {},
   "outputs": [
    {
     "data": {
      "text/plain": [
       "array([ 7,  9, 11, 13, 15])"
      ]
     },
     "execution_count": 191,
     "metadata": {},
     "output_type": "execute_result"
    }
   ],
   "source": [
    "arr=a1+a2 # array size should be same\n",
    "arr"
   ]
  },
  {
   "cell_type": "code",
   "execution_count": 193,
   "id": "bec4574a-5fb1-44aa-a347-ae19ee1dfd63",
   "metadata": {},
   "outputs": [
    {
     "data": {
      "text/plain": [
       "array([-5, -5, -5, -5, -5])"
      ]
     },
     "execution_count": 193,
     "metadata": {},
     "output_type": "execute_result"
    }
   ],
   "source": [
    "a1-a2"
   ]
  },
  {
   "cell_type": "code",
   "execution_count": 195,
   "id": "1e32ba7a-0f64-43d2-9a35-14a90dafad4a",
   "metadata": {},
   "outputs": [
    {
     "data": {
      "text/plain": [
       "array([ 6, 14, 24, 36, 50])"
      ]
     },
     "execution_count": 195,
     "metadata": {},
     "output_type": "execute_result"
    }
   ],
   "source": [
    "a1*a2"
   ]
  },
  {
   "cell_type": "code",
   "execution_count": 197,
   "id": "d374a061-f5f6-48c3-a1d4-622a32ce2fb9",
   "metadata": {},
   "outputs": [
    {
     "data": {
      "text/plain": [
       "array([1., 1., 1., 1., 1.])"
      ]
     },
     "execution_count": 197,
     "metadata": {},
     "output_type": "execute_result"
    }
   ],
   "source": [
    "a2/a2"
   ]
  },
  {
   "cell_type": "code",
   "execution_count": 199,
   "id": "efe5a21f-817d-4a56-aa93-f6288fa2b5a3",
   "metadata": {},
   "outputs": [
    {
     "data": {
      "text/plain": [
       "array([0, 0, 0, 0, 0])"
      ]
     },
     "execution_count": 199,
     "metadata": {},
     "output_type": "execute_result"
    }
   ],
   "source": [
    "a1//a2"
   ]
  },
  {
   "cell_type": "code",
   "execution_count": null,
   "id": "2fad84f7-c70f-4d87-89c0-652434a176c3",
   "metadata": {},
   "outputs": [],
   "source": [
    "#BroadCasting"
   ]
  },
  {
   "cell_type": "code",
   "execution_count": 201,
   "id": "db54f311-78dd-4b37-a17a-583862310020",
   "metadata": {},
   "outputs": [],
   "source": [
    "l=[10,20,30,40]\n",
    "arr=np.array(l)\n"
   ]
  },
  {
   "cell_type": "code",
   "execution_count": 203,
   "id": "dca3af1c-8ee2-40dc-aabd-a50a7767ae2a",
   "metadata": {},
   "outputs": [
    {
     "data": {
      "text/plain": [
       "array([20, 30, 40, 50])"
      ]
     },
     "execution_count": 203,
     "metadata": {},
     "output_type": "execute_result"
    }
   ],
   "source": [
    "arr+10"
   ]
  },
  {
   "cell_type": "code",
   "execution_count": 205,
   "id": "20167daf-7ed0-4eef-9ef9-f87d4f0e2fd9",
   "metadata": {},
   "outputs": [
    {
     "data": {
      "text/plain": [
       "array([ 1,  2,  3,  4,  5,  6,  7,  8,  9, 10, 11, 12, 13, 14, 15, 16, 17,\n",
       "       18, 19, 20])"
      ]
     },
     "execution_count": 205,
     "metadata": {},
     "output_type": "execute_result"
    }
   ],
   "source": [
    "#Deep and Shallow copy\n",
    "\n",
    "a=np.arange(1,21)\n",
    "a"
   ]
  },
  {
   "cell_type": "code",
   "execution_count": 211,
   "id": "446de8f6-607a-4778-a2bc-578862c56e91",
   "metadata": {},
   "outputs": [
    {
     "data": {
      "text/plain": [
       "array([10, 20, 30, 40, 50])"
      ]
     },
     "execution_count": 211,
     "metadata": {},
     "output_type": "execute_result"
    }
   ],
   "source": [
    "slice=a[:5]\n",
    "slice=slice*10\n",
    "slice"
   ]
  },
  {
   "cell_type": "code",
   "execution_count": 215,
   "id": "d4495ddf-bb7c-40cd-8068-42f3e0ef4958",
   "metadata": {},
   "outputs": [
    {
     "data": {
      "text/plain": [
       "array([ 1,  2,  3,  4,  5,  6,  7,  8,  9, 10, 11, 12, 13, 14, 15, 16, 17,\n",
       "       18, 19, 20])"
      ]
     },
     "execution_count": 215,
     "metadata": {},
     "output_type": "execute_result"
    }
   ],
   "source": [
    "a"
   ]
  },
  {
   "cell_type": "code",
   "execution_count": 217,
   "id": "5f6d4973-6f8d-4d32-bfe4-fdc5fc7df02b",
   "metadata": {},
   "outputs": [
    {
     "data": {
      "text/plain": [
       "array([ 1,  2,  3,  4,  5,  6,  7,  8,  9, 10, 11, 12, 13, 14, 15, 16, 17,\n",
       "       18, 19, 20])"
      ]
     },
     "execution_count": 217,
     "metadata": {},
     "output_type": "execute_result"
    }
   ],
   "source": [
    "a[4:6]*10\n",
    "a"
   ]
  },
  {
   "cell_type": "code",
   "execution_count": 219,
   "id": "19137c0d-e4ab-42a6-bbcb-31e12cbe2910",
   "metadata": {},
   "outputs": [],
   "source": [
    "a\n",
    "b=a\n"
   ]
  },
  {
   "cell_type": "code",
   "execution_count": 223,
   "id": "d64ca012-4a53-46dc-bf82-2a8d6a2fea61",
   "metadata": {},
   "outputs": [],
   "source": [
    "b[0]=99"
   ]
  },
  {
   "cell_type": "code",
   "execution_count": 225,
   "id": "5afd87dd-0dc2-4e4b-907d-ad0d21204e55",
   "metadata": {},
   "outputs": [
    {
     "data": {
      "text/plain": [
       "array([99,  2,  3,  4,  5,  6,  7,  8,  9, 10, 11, 12, 13, 14, 15, 16, 17,\n",
       "       18, 19, 20])"
      ]
     },
     "execution_count": 225,
     "metadata": {},
     "output_type": "execute_result"
    }
   ],
   "source": [
    "b"
   ]
  },
  {
   "cell_type": "code",
   "execution_count": 227,
   "id": "cfc320bb-ec3a-4196-ab89-7c5b6b63adba",
   "metadata": {},
   "outputs": [
    {
     "data": {
      "text/plain": [
       "array([99,  2,  3,  4,  5,  6,  7,  8,  9, 10, 11, 12, 13, 14, 15, 16, 17,\n",
       "       18, 19, 20])"
      ]
     },
     "execution_count": 227,
     "metadata": {},
     "output_type": "execute_result"
    }
   ],
   "source": [
    "a"
   ]
  },
  {
   "cell_type": "code",
   "execution_count": null,
   "id": "acd792cc-7f52-461d-b6f7-7d59d67932ef",
   "metadata": {},
   "outputs": [],
   "source": [
    "# Matrix operations"
   ]
  },
  {
   "cell_type": "code",
   "execution_count": 233,
   "id": "313b58bf-3203-4d27-800d-89dcec3d5d30",
   "metadata": {},
   "outputs": [],
   "source": [
    "A=np.array([[1,2],[3,4]])\n",
    "B=np.array([[5,6],[7,8]])"
   ]
  },
  {
   "cell_type": "code",
   "execution_count": 235,
   "id": "e59ef3ce-88ad-439b-bd4e-fdf188de572c",
   "metadata": {},
   "outputs": [
    {
     "data": {
      "text/plain": [
       "array([[1, 2],\n",
       "       [3, 4]])"
      ]
     },
     "execution_count": 235,
     "metadata": {},
     "output_type": "execute_result"
    }
   ],
   "source": [
    "A"
   ]
  },
  {
   "cell_type": "code",
   "execution_count": 237,
   "id": "0a0a5bb7-70bf-492f-884e-684cfb330ce6",
   "metadata": {},
   "outputs": [
    {
     "data": {
      "text/plain": [
       "array([[5, 6],\n",
       "       [7, 8]])"
      ]
     },
     "execution_count": 237,
     "metadata": {},
     "output_type": "execute_result"
    }
   ],
   "source": [
    "B"
   ]
  },
  {
   "cell_type": "code",
   "execution_count": 239,
   "id": "4d7c6992-06be-4b02-a975-113346875510",
   "metadata": {},
   "outputs": [
    {
     "data": {
      "text/plain": [
       "array([[ 5, 12],\n",
       "       [21, 32]])"
      ]
     },
     "execution_count": 239,
     "metadata": {},
     "output_type": "execute_result"
    }
   ],
   "source": [
    "A*B"
   ]
  },
  {
   "cell_type": "code",
   "execution_count": 241,
   "id": "7215921e-2873-4267-ba0e-171fb689a996",
   "metadata": {},
   "outputs": [
    {
     "data": {
      "text/plain": [
       "array([[19, 22],\n",
       "       [43, 50]])"
      ]
     },
     "execution_count": 241,
     "metadata": {},
     "output_type": "execute_result"
    }
   ],
   "source": [
    "A @ B"
   ]
  },
  {
   "cell_type": "code",
   "execution_count": 243,
   "id": "fee377b9-fffd-4772-a487-b8cec568f670",
   "metadata": {},
   "outputs": [
    {
     "data": {
      "text/plain": [
       "array([[19, 22],\n",
       "       [43, 50]])"
      ]
     },
     "execution_count": 243,
     "metadata": {},
     "output_type": "execute_result"
    }
   ],
   "source": [
    "np.dot(A,B)"
   ]
  },
  {
   "cell_type": "code",
   "execution_count": 245,
   "id": "c6bfd0eb-429d-4ae7-93df-707ace1557c5",
   "metadata": {},
   "outputs": [
    {
     "data": {
      "text/plain": [
       "array([[1, 2],\n",
       "       [3, 4]])"
      ]
     },
     "execution_count": 245,
     "metadata": {},
     "output_type": "execute_result"
    }
   ],
   "source": [
    "A"
   ]
  },
  {
   "cell_type": "code",
   "execution_count": 251,
   "id": "c286f663-007b-4fea-8432-b5a127a4ff19",
   "metadata": {},
   "outputs": [
    {
     "data": {
      "text/plain": [
       "array([[5, 6],\n",
       "       [7, 8]])"
      ]
     },
     "execution_count": 251,
     "metadata": {},
     "output_type": "execute_result"
    }
   ],
   "source": [
    "B"
   ]
  },
  {
   "cell_type": "code",
   "execution_count": 247,
   "id": "32e02539-3d2d-40d0-a693-df0105d04c92",
   "metadata": {},
   "outputs": [
    {
     "data": {
      "text/plain": [
       "array([[1, 3],\n",
       "       [2, 4]])"
      ]
     },
     "execution_count": 247,
     "metadata": {},
     "output_type": "execute_result"
    }
   ],
   "source": [
    "A.T"
   ]
  },
  {
   "cell_type": "code",
   "execution_count": 249,
   "id": "ecd1dbcd-ec9c-430d-a530-bfcb8b00ebf4",
   "metadata": {},
   "outputs": [
    {
     "data": {
      "text/plain": [
       "array([[5, 7],\n",
       "       [6, 8]])"
      ]
     },
     "execution_count": 249,
     "metadata": {},
     "output_type": "execute_result"
    }
   ],
   "source": [
    "B.T"
   ]
  },
  {
   "cell_type": "code",
   "execution_count": null,
   "id": "59ebdfbd-7d4c-476d-8346-f91777b2591a",
   "metadata": {},
   "outputs": [],
   "source": [
    "#Advance ARRAY manipulation\n",
    "# Stacking Array"
   ]
  },
  {
   "cell_type": "code",
   "execution_count": 265,
   "id": "10765043-32e0-451d-9220-f23989390412",
   "metadata": {},
   "outputs": [],
   "source": [
    "a=np.array([1,2,3,4])\n",
    "b=np.array([5,6,7,8])"
   ]
  },
  {
   "cell_type": "code",
   "execution_count": 269,
   "id": "740c040b-13b3-494c-b759-d0eb1cf53df9",
   "metadata": {},
   "outputs": [
    {
     "data": {
      "text/plain": [
       "array([[1, 2, 3, 4],\n",
       "       [5, 6, 7, 8]])"
      ]
     },
     "execution_count": 269,
     "metadata": {},
     "output_type": "execute_result"
    }
   ],
   "source": [
    "np.vstack((a,b))  # vertcial stack"
   ]
  },
  {
   "cell_type": "code",
   "execution_count": 271,
   "id": "61f14363-52d9-407a-bfa4-71bb47d22808",
   "metadata": {},
   "outputs": [
    {
     "data": {
      "text/plain": [
       "array([1, 2, 3, 4, 5, 6, 7, 8])"
      ]
     },
     "execution_count": 271,
     "metadata": {},
     "output_type": "execute_result"
    }
   ],
   "source": [
    "np.hstack((a,b))  #horizontal stack"
   ]
  },
  {
   "cell_type": "code",
   "execution_count": 273,
   "id": "631d700b-3ba2-4109-b7a1-215523417686",
   "metadata": {},
   "outputs": [
    {
     "data": {
      "text/plain": [
       "array([[1, 5],\n",
       "       [2, 6],\n",
       "       [3, 7],\n",
       "       [4, 8]])"
      ]
     },
     "execution_count": 273,
     "metadata": {},
     "output_type": "execute_result"
    }
   ],
   "source": [
    "np.column_stack((a,b))"
   ]
  },
  {
   "cell_type": "code",
   "execution_count": null,
   "id": "441b3818-e232-4e0c-a919-ef28b8a43fa4",
   "metadata": {},
   "outputs": [],
   "source": [
    "#Splitting Array"
   ]
  },
  {
   "cell_type": "code",
   "execution_count": 276,
   "id": "fc701b87-1ccf-4263-900b-7998e6a8d86b",
   "metadata": {},
   "outputs": [],
   "source": [
    "c=np.arange(16).reshape(4,4)"
   ]
  },
  {
   "cell_type": "code",
   "execution_count": 278,
   "id": "f7744a86-9dc5-4d3d-9ed2-cee445a53b9e",
   "metadata": {},
   "outputs": [
    {
     "data": {
      "text/plain": [
       "array([[ 0,  1,  2,  3],\n",
       "       [ 4,  5,  6,  7],\n",
       "       [ 8,  9, 10, 11],\n",
       "       [12, 13, 14, 15]])"
      ]
     },
     "execution_count": 278,
     "metadata": {},
     "output_type": "execute_result"
    }
   ],
   "source": [
    "c"
   ]
  },
  {
   "cell_type": "code",
   "execution_count": 280,
   "id": "e896c5a4-4631-47ac-90fe-9620bb003603",
   "metadata": {},
   "outputs": [
    {
     "data": {
      "text/plain": [
       "[array([[ 0,  1],\n",
       "        [ 4,  5],\n",
       "        [ 8,  9],\n",
       "        [12, 13]]),\n",
       " array([[ 2,  3],\n",
       "        [ 6,  7],\n",
       "        [10, 11],\n",
       "        [14, 15]])]"
      ]
     },
     "execution_count": 280,
     "metadata": {},
     "output_type": "execute_result"
    }
   ],
   "source": [
    "np.hsplit(c,2)"
   ]
  },
  {
   "cell_type": "code",
   "execution_count": 286,
   "id": "9e6b9945-18c0-49b4-bfec-4338050675e3",
   "metadata": {},
   "outputs": [],
   "source": [
    "a=np.vsplit(c,4)"
   ]
  },
  {
   "cell_type": "code",
   "execution_count": 288,
   "id": "b4681c21-f259-43f7-af43-e082897e3b1c",
   "metadata": {},
   "outputs": [
    {
     "data": {
      "text/plain": [
       "[array([[0, 1, 2, 3]]),\n",
       " array([[4, 5, 6, 7]]),\n",
       " array([[ 8,  9, 10, 11]]),\n",
       " array([[12, 13, 14, 15]])]"
      ]
     },
     "execution_count": 288,
     "metadata": {},
     "output_type": "execute_result"
    }
   ],
   "source": [
    "a"
   ]
  },
  {
   "cell_type": "code",
   "execution_count": 290,
   "id": "3fa0241b-54f9-4339-a98f-85b65b20fa6d",
   "metadata": {},
   "outputs": [],
   "source": [
    "#Questions"
   ]
  },
  {
   "cell_type": "code",
   "execution_count": null,
   "id": "83d47b60-6d03-414a-8260-94885d191f58",
   "metadata": {},
   "outputs": [],
   "source": [
    "#1.Valid Sudoku"
   ]
  },
  {
   "cell_type": "code",
   "execution_count": 292,
   "id": "b7fef550-8722-4299-b943-6529057faf08",
   "metadata": {},
   "outputs": [],
   "source": [
    "s= np.array([\n",
    "    [5, 3, 4, 6, 7, 8, 9, 1, 2],    # sum of  individual rows and cols is equal to 45\n",
    "    [6, 7, 2, 1, 9, 5, 3, 4, 8],\n",
    "    [1, 9, 8, 3, 4, 2, 5, 6, 7],\n",
    "    [8, 5, 9, 7, 6, 1, 4, 2, 3],\n",
    "    [4, 2, 6, 8, 5, 3, 7, 9, 1],\n",
    "    [7, 1, 3, 9, 2, 4, 8, 5, 6],\n",
    "    [9, 6, 1, 5, 3, 7, 2, 8, 4],\n",
    "    [2, 8, 7, 4, 1, 9, 6, 3, 5],\n",
    "    [3, 4, 5, 2, 8, 6, 1, 7, 9]\n",
    "])"
   ]
  },
  {
   "cell_type": "code",
   "execution_count": 310,
   "id": "b5357d0b-d541-4fc0-9c68-10cbeff49765",
   "metadata": {},
   "outputs": [
    {
     "data": {
      "text/plain": [
       "45"
      ]
     },
     "execution_count": 310,
     "metadata": {},
     "output_type": "execute_result"
    }
   ],
   "source": [
    "d=np.sum(s[0:3,0:3])\n",
    "d"
   ]
  },
  {
   "cell_type": "code",
   "execution_count": 300,
   "id": "b7a39e38-0fc3-46ad-8f70-3afc0acf6701",
   "metadata": {},
   "outputs": [
    {
     "data": {
      "text/plain": [
       "array([ True,  True,  True,  True,  True,  True,  True,  True,  True])"
      ]
     },
     "execution_count": 300,
     "metadata": {},
     "output_type": "execute_result"
    }
   ],
   "source": [
    "b=np.sum(s,axis=1)\n",
    "b==45"
   ]
  },
  {
   "cell_type": "code",
   "execution_count": 302,
   "id": "adf61d70-c215-4839-a8ee-9e54f1a8084f",
   "metadata": {},
   "outputs": [
    {
     "name": "stdout",
     "output_type": "stream",
     "text": [
      "for rows it is valid\n"
     ]
    }
   ],
   "source": [
    "for i in b:\n",
    "    if i!=45:\n",
    "        print(\"sudoku is not valid\")\n",
    "        break\n",
    "else:\n",
    "    print(\"for rows it is valid\")"
   ]
  },
  {
   "cell_type": "code",
   "execution_count": 304,
   "id": "eda44bd8-41e8-4dd1-8a7f-5a2868692daf",
   "metadata": {},
   "outputs": [],
   "source": [
    "c=np.sum(s,axis=0)"
   ]
  },
  {
   "cell_type": "code",
   "execution_count": 306,
   "id": "8b25d868-8e80-48ac-804e-d8f14cd10f28",
   "metadata": {},
   "outputs": [
    {
     "data": {
      "text/plain": [
       "array([45, 45, 45, 45, 45, 45, 45, 45, 45])"
      ]
     },
     "execution_count": 306,
     "metadata": {},
     "output_type": "execute_result"
    }
   ],
   "source": [
    "c"
   ]
  },
  {
   "cell_type": "code",
   "execution_count": 308,
   "id": "d7fae0f4-1749-4400-a86f-4acd04bc4033",
   "metadata": {},
   "outputs": [
    {
     "name": "stdout",
     "output_type": "stream",
     "text": [
      "for rows it is valid\n"
     ]
    }
   ],
   "source": [
    "for i in c:\n",
    "    if i!=45:\n",
    "        print(\"sudoku is not valid\")\n",
    "        break\n",
    "else:\n",
    "    print(\"for rows it is valid\")"
   ]
  },
  {
   "cell_type": "code",
   "execution_count": 312,
   "id": "1b1f54bd-689b-441d-a795-ae39c58d6437",
   "metadata": {},
   "outputs": [
    {
     "data": {
      "text/plain": [
       "45"
      ]
     },
     "execution_count": 312,
     "metadata": {},
     "output_type": "execute_result"
    }
   ],
   "source": [
    "e=np.sum(s[0:3,6:9])\n",
    "e"
   ]
  },
  {
   "cell_type": "code",
   "execution_count": 318,
   "id": "f9ee32ac-d2e1-4ae3-a78d-6010f5793cd1",
   "metadata": {},
   "outputs": [
    {
     "name": "stdout",
     "output_type": "stream",
     "text": [
      "45\n",
      "45\n",
      "45\n",
      "45\n",
      "45\n",
      "45\n",
      "45\n",
      "45\n",
      "45\n"
     ]
    }
   ],
   "source": [
    "for i in range(0,9,3):\n",
    "    for j in range(0,9,3):\n",
    "        n=s[i:i+3,j:j+3]\n",
    "        print(n.sum())"
   ]
  },
  {
   "cell_type": "code",
   "execution_count": null,
   "id": "2598feb4-6c3c-4835-85ca-ca375c3c45c1",
   "metadata": {},
   "outputs": [],
   "source": [
    "# General Questions"
   ]
  },
  {
   "cell_type": "code",
   "execution_count": 423,
   "id": "31a9d085-6aeb-40c8-b54b-405d5b22adb7",
   "metadata": {},
   "outputs": [],
   "source": [
    "#columns : [age ,  math marks,science marks]\n",
    "data=np.array([\n",
    "               [18,85,78], #Student 1\n",
    "              [19,92,88],  #Student 2\n",
    "               [17,76,95], #Student 3\n",
    "               [18,65,70], #Student 4\n",
    "               [20,90,85]  #Student 5\n",
    "              ])"
   ]
  },
  {
   "cell_type": "code",
   "execution_count": 425,
   "id": "7a959460-2fa5-47fa-b1a7-b65d40f077da",
   "metadata": {},
   "outputs": [
    {
     "data": {
      "text/plain": [
       "(5, 3)"
      ]
     },
     "execution_count": 425,
     "metadata": {},
     "output_type": "execute_result"
    }
   ],
   "source": [
    "#Get the shape of the matrix\n",
    "\n",
    "data.shape"
   ]
  },
  {
   "cell_type": "code",
   "execution_count": 427,
   "id": "9b924d08-59d0-4626-bc6f-38fe398384d9",
   "metadata": {},
   "outputs": [
    {
     "data": {
      "text/plain": [
       "18.4"
      ]
     },
     "execution_count": 427,
     "metadata": {},
     "output_type": "execute_result"
    }
   ],
   "source": [
    "#find the avg age of student\n",
    "np.mean(data[:,0])"
   ]
  },
  {
   "cell_type": "code",
   "execution_count": 429,
   "id": "4763fc15-96c3-4931-b8a5-f1b4c813864e",
   "metadata": {},
   "outputs": [],
   "source": [
    "#extract Math marks of all students"
   ]
  },
  {
   "cell_type": "code",
   "execution_count": 431,
   "id": "82b41974-fe07-4835-98ca-66bf0b3d0c4f",
   "metadata": {},
   "outputs": [
    {
     "data": {
      "text/plain": [
       "array([[85],\n",
       "       [92],\n",
       "       [76],\n",
       "       [65],\n",
       "       [90]])"
      ]
     },
     "execution_count": 431,
     "metadata": {},
     "output_type": "execute_result"
    }
   ],
   "source": [
    "data[:,1:2]"
   ]
  },
  {
   "cell_type": "code",
   "execution_count": 433,
   "id": "b75af0fa-f45f-4610-a277-fa1532f2b43e",
   "metadata": {},
   "outputs": [
    {
     "data": {
      "text/plain": [
       "95"
      ]
     },
     "execution_count": 433,
     "metadata": {},
     "output_type": "execute_result"
    }
   ],
   "source": [
    "#find the highest Science marks\n",
    "np.max(data[:,2])"
   ]
  },
  {
   "cell_type": "code",
   "execution_count": 435,
   "id": "ae924e0f-acef-480c-8c6f-f4f828b05c35",
   "metadata": {},
   "outputs": [
    {
     "data": {
      "text/plain": [
       "array([[19, 92, 88]])"
      ]
     },
     "execution_count": 435,
     "metadata": {},
     "output_type": "execute_result"
    }
   ],
   "source": [
    "#Get them details of the student who  scored mpore than 90 in math\n",
    "data[data[:,1]>90]"
   ]
  },
  {
   "cell_type": "code",
   "execution_count": 437,
   "id": "06908b3b-855b-4163-8bb1-50a41e9de269",
   "metadata": {},
   "outputs": [
    {
     "data": {
      "text/plain": [
       "array([[85],\n",
       "       [92],\n",
       "       [76],\n",
       "       [65],\n",
       "       [90]])"
      ]
     },
     "execution_count": 437,
     "metadata": {},
     "output_type": "execute_result"
    }
   ],
   "source": [
    "math=data[:,1:2]\n",
    "math"
   ]
  },
  {
   "cell_type": "code",
   "execution_count": 439,
   "id": "6fbf5ba1-23a3-4f76-8bbb-e412d80b6b8c",
   "metadata": {},
   "outputs": [
    {
     "name": "stdout",
     "output_type": "stream",
     "text": [
      "[92]\n"
     ]
    }
   ],
   "source": [
    "for i in range(len(math)):\n",
    "    if math[i] > 90:\n",
    "        print(math[i])"
   ]
  },
  {
   "cell_type": "code",
   "execution_count": 441,
   "id": "25bc4fef-2620-452c-b8ba-c6f41d874bcb",
   "metadata": {},
   "outputs": [],
   "source": [
    "#Increae the math marks of all students by 5\n",
    "data[:, 1] += 5"
   ]
  },
  {
   "cell_type": "code",
   "execution_count": 443,
   "id": "ec4e5fa0-a043-443d-bd25-0811afa10787",
   "metadata": {},
   "outputs": [
    {
     "data": {
      "text/plain": [
       "array([[18, 90, 78],\n",
       "       [19, 97, 88],\n",
       "       [17, 81, 95],\n",
       "       [18, 70, 70],\n",
       "       [20, 95, 85]])"
      ]
     },
     "execution_count": 443,
     "metadata": {},
     "output_type": "execute_result"
    }
   ],
   "source": [
    "data"
   ]
  },
  {
   "cell_type": "code",
   "execution_count": 445,
   "id": "548fd954-e08f-4966-ae19-24442316fbe2",
   "metadata": {},
   "outputs": [
    {
     "data": {
      "text/plain": [
       "3"
      ]
     },
     "execution_count": 445,
     "metadata": {},
     "output_type": "execute_result"
    }
   ],
   "source": [
    "#find how many students are younger than 19 \n",
    "len(data[data[:,0]<19])"
   ]
  },
  {
   "cell_type": "code",
   "execution_count": 447,
   "id": "9ba17580-6a56-439f-b02f-5475f2fee5ca",
   "metadata": {},
   "outputs": [
    {
     "data": {
      "text/plain": [
       "array([86.6, 83.2])"
      ]
     },
     "execution_count": 447,
     "metadata": {},
     "output_type": "execute_result"
    }
   ],
   "source": [
    "#calculate the avg  marks in each subject (column-wise mean)\n",
    "np.mean(data[:,1:],axis=0)\n"
   ]
  },
  {
   "cell_type": "code",
   "execution_count": 449,
   "id": "0828cd0a-bb4a-4756-a09b-2ef79aba45f8",
   "metadata": {},
   "outputs": [
    {
     "data": {
      "text/plain": [
       "array([[19, 97, 88],\n",
       "       [17, 81, 95],\n",
       "       [20, 95, 85]])"
      ]
     },
     "execution_count": 449,
     "metadata": {},
     "output_type": "execute_result"
    }
   ],
   "source": [
    "#get data of student who scored at least 80 in both subjects\n",
    "data[(data[:,1] >=80) & (data[:,2]>=80)]"
   ]
  },
  {
   "cell_type": "code",
   "execution_count": 451,
   "id": "43797720-6f52-4af6-83f2-48be5e2c419f",
   "metadata": {},
   "outputs": [],
   "source": [
    "#replace all science marks <75 with 0\n",
    "\n",
    "data[:,2][data[:,2]<75]=0"
   ]
  },
  {
   "cell_type": "code",
   "execution_count": 453,
   "id": "613f4a50-4882-4a39-bb7f-965ded926dbb",
   "metadata": {},
   "outputs": [
    {
     "data": {
      "text/plain": [
       "array([[18, 90, 78],\n",
       "       [19, 97, 88],\n",
       "       [17, 81, 95],\n",
       "       [18, 70,  0],\n",
       "       [20, 95, 85]])"
      ]
     },
     "execution_count": 453,
     "metadata": {},
     "output_type": "execute_result"
    }
   ],
   "source": [
    "data"
   ]
  },
  {
   "cell_type": "code",
   "execution_count": null,
   "id": "8dbd53b8-d43b-468c-a41b-9479b9f6183d",
   "metadata": {},
   "outputs": [],
   "source": []
  },
  {
   "cell_type": "code",
   "execution_count": null,
   "id": "a587e146-6e7c-4cd8-b2e4-83fcff3aa0bd",
   "metadata": {},
   "outputs": [],
   "source": []
  },
  {
   "cell_type": "code",
   "execution_count": null,
   "id": "ff1d2364-2141-4d1f-b9c7-6c48970b7385",
   "metadata": {},
   "outputs": [],
   "source": []
  },
  {
   "cell_type": "code",
   "execution_count": null,
   "id": "49d762ba-69ff-4477-bb3c-73465359c982",
   "metadata": {},
   "outputs": [],
   "source": []
  },
  {
   "cell_type": "code",
   "execution_count": null,
   "id": "bbc37716-e252-41e1-861d-ed9c251d3fa1",
   "metadata": {},
   "outputs": [],
   "source": []
  },
  {
   "cell_type": "code",
   "execution_count": null,
   "id": "09ac1b80-189b-4dcc-9b16-162cb1396c7f",
   "metadata": {},
   "outputs": [],
   "source": []
  },
  {
   "cell_type": "code",
   "execution_count": null,
   "id": "aecf475f-c4ee-4a1a-b120-a16395175411",
   "metadata": {},
   "outputs": [],
   "source": []
  }
 ],
 "metadata": {
  "kernelspec": {
   "display_name": "Python 3 (ipykernel)",
   "language": "python",
   "name": "python3"
  },
  "language_info": {
   "codemirror_mode": {
    "name": "ipython",
    "version": 3
   },
   "file_extension": ".py",
   "mimetype": "text/x-python",
   "name": "python",
   "nbconvert_exporter": "python",
   "pygments_lexer": "ipython3",
   "version": "3.12.4"
  }
 },
 "nbformat": 4,
 "nbformat_minor": 5
}
